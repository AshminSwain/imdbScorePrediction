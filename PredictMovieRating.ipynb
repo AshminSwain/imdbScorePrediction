{
 "cells": [
  {
   "cell_type": "markdown",
   "metadata": {},
   "source": [
    "#### From the IMDB's Movie Dataset, lets predict the rating of a movie based on its genre. We will find movies similar to its genre using KNN and try to base on our assumption that ratings of similar movies would also be similar.\n",
    "\n",
    "#### Dataset Source : https://www.kaggle.com/deepmatrix/imdb-5000-movie-dataset"
   ]
  },
  {
   "cell_type": "code",
   "execution_count": 1,
   "metadata": {
    "collapsed": true
   },
   "outputs": [],
   "source": [
    "#packages import section\n",
    "import pandas as pd"
   ]
  },
  {
   "cell_type": "markdown",
   "metadata": {},
   "source": [
    "#### I have stored the kaggle file locally and am reading from it. Lets name our dataframe as 'ratings' and start working on it."
   ]
  },
  {
   "cell_type": "code",
   "execution_count": 2,
   "metadata": {
    "collapsed": false
   },
   "outputs": [
    {
     "data": {
      "text/html": [
       "<div>\n",
       "<table border=\"1\" class=\"dataframe\">\n",
       "  <thead>\n",
       "    <tr style=\"text-align: right;\">\n",
       "      <th></th>\n",
       "      <th>color</th>\n",
       "      <th>director_name</th>\n",
       "      <th>num_critic_for_reviews</th>\n",
       "      <th>duration</th>\n",
       "      <th>director_facebook_likes</th>\n",
       "      <th>actor_3_facebook_likes</th>\n",
       "      <th>actor_2_name</th>\n",
       "      <th>actor_1_facebook_likes</th>\n",
       "      <th>gross</th>\n",
       "      <th>genres</th>\n",
       "      <th>...</th>\n",
       "      <th>num_user_for_reviews</th>\n",
       "      <th>language</th>\n",
       "      <th>country</th>\n",
       "      <th>content_rating</th>\n",
       "      <th>budget</th>\n",
       "      <th>title_year</th>\n",
       "      <th>actor_2_facebook_likes</th>\n",
       "      <th>imdb_score</th>\n",
       "      <th>aspect_ratio</th>\n",
       "      <th>movie_facebook_likes</th>\n",
       "    </tr>\n",
       "  </thead>\n",
       "  <tbody>\n",
       "    <tr>\n",
       "      <th>0</th>\n",
       "      <td>Color</td>\n",
       "      <td>James Cameron</td>\n",
       "      <td>723.0</td>\n",
       "      <td>178.0</td>\n",
       "      <td>0.0</td>\n",
       "      <td>855.0</td>\n",
       "      <td>Joel David Moore</td>\n",
       "      <td>1000.0</td>\n",
       "      <td>760505847.0</td>\n",
       "      <td>Action|Adventure|Fantasy|Sci-Fi</td>\n",
       "      <td>...</td>\n",
       "      <td>3054.0</td>\n",
       "      <td>English</td>\n",
       "      <td>USA</td>\n",
       "      <td>PG-13</td>\n",
       "      <td>237000000.0</td>\n",
       "      <td>2009.0</td>\n",
       "      <td>936.0</td>\n",
       "      <td>7.9</td>\n",
       "      <td>1.78</td>\n",
       "      <td>33000</td>\n",
       "    </tr>\n",
       "    <tr>\n",
       "      <th>1</th>\n",
       "      <td>Color</td>\n",
       "      <td>Gore Verbinski</td>\n",
       "      <td>302.0</td>\n",
       "      <td>169.0</td>\n",
       "      <td>563.0</td>\n",
       "      <td>1000.0</td>\n",
       "      <td>Orlando Bloom</td>\n",
       "      <td>40000.0</td>\n",
       "      <td>309404152.0</td>\n",
       "      <td>Action|Adventure|Fantasy</td>\n",
       "      <td>...</td>\n",
       "      <td>1238.0</td>\n",
       "      <td>English</td>\n",
       "      <td>USA</td>\n",
       "      <td>PG-13</td>\n",
       "      <td>300000000.0</td>\n",
       "      <td>2007.0</td>\n",
       "      <td>5000.0</td>\n",
       "      <td>7.1</td>\n",
       "      <td>2.35</td>\n",
       "      <td>0</td>\n",
       "    </tr>\n",
       "    <tr>\n",
       "      <th>2</th>\n",
       "      <td>Color</td>\n",
       "      <td>Sam Mendes</td>\n",
       "      <td>602.0</td>\n",
       "      <td>148.0</td>\n",
       "      <td>0.0</td>\n",
       "      <td>161.0</td>\n",
       "      <td>Rory Kinnear</td>\n",
       "      <td>11000.0</td>\n",
       "      <td>200074175.0</td>\n",
       "      <td>Action|Adventure|Thriller</td>\n",
       "      <td>...</td>\n",
       "      <td>994.0</td>\n",
       "      <td>English</td>\n",
       "      <td>UK</td>\n",
       "      <td>PG-13</td>\n",
       "      <td>245000000.0</td>\n",
       "      <td>2015.0</td>\n",
       "      <td>393.0</td>\n",
       "      <td>6.8</td>\n",
       "      <td>2.35</td>\n",
       "      <td>85000</td>\n",
       "    </tr>\n",
       "    <tr>\n",
       "      <th>3</th>\n",
       "      <td>Color</td>\n",
       "      <td>Christopher Nolan</td>\n",
       "      <td>813.0</td>\n",
       "      <td>164.0</td>\n",
       "      <td>22000.0</td>\n",
       "      <td>23000.0</td>\n",
       "      <td>Christian Bale</td>\n",
       "      <td>27000.0</td>\n",
       "      <td>448130642.0</td>\n",
       "      <td>Action|Thriller</td>\n",
       "      <td>...</td>\n",
       "      <td>2701.0</td>\n",
       "      <td>English</td>\n",
       "      <td>USA</td>\n",
       "      <td>PG-13</td>\n",
       "      <td>250000000.0</td>\n",
       "      <td>2012.0</td>\n",
       "      <td>23000.0</td>\n",
       "      <td>8.5</td>\n",
       "      <td>2.35</td>\n",
       "      <td>164000</td>\n",
       "    </tr>\n",
       "    <tr>\n",
       "      <th>4</th>\n",
       "      <td>NaN</td>\n",
       "      <td>Doug Walker</td>\n",
       "      <td>NaN</td>\n",
       "      <td>NaN</td>\n",
       "      <td>131.0</td>\n",
       "      <td>NaN</td>\n",
       "      <td>Rob Walker</td>\n",
       "      <td>131.0</td>\n",
       "      <td>NaN</td>\n",
       "      <td>Documentary</td>\n",
       "      <td>...</td>\n",
       "      <td>NaN</td>\n",
       "      <td>NaN</td>\n",
       "      <td>NaN</td>\n",
       "      <td>NaN</td>\n",
       "      <td>NaN</td>\n",
       "      <td>NaN</td>\n",
       "      <td>12.0</td>\n",
       "      <td>7.1</td>\n",
       "      <td>NaN</td>\n",
       "      <td>0</td>\n",
       "    </tr>\n",
       "  </tbody>\n",
       "</table>\n",
       "<p>5 rows × 28 columns</p>\n",
       "</div>"
      ],
      "text/plain": [
       "   color      director_name  num_critic_for_reviews  duration  \\\n",
       "0  Color      James Cameron                   723.0     178.0   \n",
       "1  Color     Gore Verbinski                   302.0     169.0   \n",
       "2  Color         Sam Mendes                   602.0     148.0   \n",
       "3  Color  Christopher Nolan                   813.0     164.0   \n",
       "4    NaN        Doug Walker                     NaN       NaN   \n",
       "\n",
       "   director_facebook_likes  actor_3_facebook_likes      actor_2_name  \\\n",
       "0                      0.0                   855.0  Joel David Moore   \n",
       "1                    563.0                  1000.0     Orlando Bloom   \n",
       "2                      0.0                   161.0      Rory Kinnear   \n",
       "3                  22000.0                 23000.0    Christian Bale   \n",
       "4                    131.0                     NaN        Rob Walker   \n",
       "\n",
       "   actor_1_facebook_likes        gross                           genres  \\\n",
       "0                  1000.0  760505847.0  Action|Adventure|Fantasy|Sci-Fi   \n",
       "1                 40000.0  309404152.0         Action|Adventure|Fantasy   \n",
       "2                 11000.0  200074175.0        Action|Adventure|Thriller   \n",
       "3                 27000.0  448130642.0                  Action|Thriller   \n",
       "4                   131.0          NaN                      Documentary   \n",
       "\n",
       "          ...          num_user_for_reviews language  country  content_rating  \\\n",
       "0         ...                        3054.0  English      USA           PG-13   \n",
       "1         ...                        1238.0  English      USA           PG-13   \n",
       "2         ...                         994.0  English       UK           PG-13   \n",
       "3         ...                        2701.0  English      USA           PG-13   \n",
       "4         ...                           NaN      NaN      NaN             NaN   \n",
       "\n",
       "        budget  title_year actor_2_facebook_likes imdb_score  aspect_ratio  \\\n",
       "0  237000000.0      2009.0                  936.0        7.9          1.78   \n",
       "1  300000000.0      2007.0                 5000.0        7.1          2.35   \n",
       "2  245000000.0      2015.0                  393.0        6.8          2.35   \n",
       "3  250000000.0      2012.0                23000.0        8.5          2.35   \n",
       "4          NaN         NaN                   12.0        7.1           NaN   \n",
       "\n",
       "  movie_facebook_likes  \n",
       "0                33000  \n",
       "1                    0  \n",
       "2                85000  \n",
       "3               164000  \n",
       "4                    0  \n",
       "\n",
       "[5 rows x 28 columns]"
      ]
     },
     "execution_count": 2,
     "metadata": {},
     "output_type": "execute_result"
    }
   ],
   "source": [
    "ratings = pd.read_csv(\"../IMDB/movie_metadata.csv\")\n",
    "ratings.head()"
   ]
  },
  {
   "cell_type": "markdown",
   "metadata": {},
   "source": [
    "#### The data look good but lets find if any of the movies have any duplicate entries also."
   ]
  },
  {
   "cell_type": "code",
   "execution_count": 3,
   "metadata": {
    "collapsed": false
   },
   "outputs": [
    {
     "data": {
      "text/plain": [
       "['20,000 Leagues Under the Sea\\xa0',\n",
       " \"A Dog's Breakfast\\xa0\",\n",
       " 'A Nightmare on Elm Street\\xa0',\n",
       " 'A Woman, a Gun and a Noodle Shop\\xa0',\n",
       " 'Across the Universe\\xa0',\n",
       " 'Alice in Wonderland\\xa0',\n",
       " 'Aloha\\xa0',\n",
       " 'Around the World in 80 Days\\xa0',\n",
       " 'Bad Moms\\xa0',\n",
       " 'Ben-Hur\\xa0',\n",
       " 'Big Fat Liar\\xa0',\n",
       " 'Brothers\\xa0',\n",
       " 'Carrie\\xa0',\n",
       " 'Casino Royale\\xa0',\n",
       " 'Cat People\\xa0',\n",
       " 'Chasing Liberty\\xa0',\n",
       " 'Cinderella\\xa0',\n",
       " 'Clash of the Titans\\xa0',\n",
       " 'Conan the Barbarian\\xa0',\n",
       " 'Crash\\xa0',\n",
       " 'Creepshow\\xa0',\n",
       " 'Crossroads\\xa0',\n",
       " 'Dangerous Liaisons\\xa0',\n",
       " 'Dawn of the Dead\\xa0',\n",
       " 'Day of the Dead\\xa0',\n",
       " 'Death at a Funeral\\xa0',\n",
       " 'Dekalog\\xa0            ',\n",
       " 'Disturbia\\xa0',\n",
       " 'Dodgeball: A True Underdog Story\\xa0',\n",
       " 'Dredd\\xa0',\n",
       " 'Eddie the Eagle\\xa0',\n",
       " 'Exodus: Gods and Kings\\xa0',\n",
       " 'Fantastic Four\\xa0',\n",
       " 'First Blood\\xa0',\n",
       " 'Footloose\\xa0',\n",
       " 'Forsaken\\xa0',\n",
       " 'From Hell\\xa0',\n",
       " 'Ghostbusters\\xa0',\n",
       " 'Glory\\xa0',\n",
       " 'Godzilla Resurgence\\xa0',\n",
       " 'Goosebumps\\xa0',\n",
       " 'Halloween II\\xa0',\n",
       " 'Halloween\\xa0',\n",
       " 'Hamlet\\xa0',\n",
       " 'Heist\\xa0',\n",
       " 'Hercules\\xa0',\n",
       " 'Hero\\xa0',\n",
       " 'History of the World: Part I\\xa0',\n",
       " 'Home\\xa0',\n",
       " 'House of Wax\\xa0',\n",
       " 'Jack Reacher\\xa0',\n",
       " 'Juno\\xa0',\n",
       " 'King Kong\\xa0',\n",
       " 'Left Behind\\xa0',\n",
       " 'Lolita\\xa0',\n",
       " 'Lucky Number Slevin\\xa0',\n",
       " 'Mercury Rising\\xa0',\n",
       " 'Murder by Numbers\\xa0',\n",
       " 'My Soul to Take\\xa0',\n",
       " 'Night of the Living Dead\\xa0',\n",
       " 'Out of the Blue\\xa0',\n",
       " 'Oz the Great and Powerful\\xa0',\n",
       " 'O\\xa0',\n",
       " 'Pan\\xa0',\n",
       " 'Planet of the Apes\\xa0',\n",
       " 'Point Break\\xa0',\n",
       " 'Poltergeist\\xa0',\n",
       " 'Precious\\xa0',\n",
       " 'RoboCop\\xa0',\n",
       " 'Sabotage\\xa0',\n",
       " 'Saving Grace\\xa0            ',\n",
       " 'Side Effects\\xa0',\n",
       " 'Skyfall\\xa0',\n",
       " 'Snakes on a Plane\\xa0',\n",
       " 'Snatch\\xa0',\n",
       " 'Snitch\\xa0',\n",
       " 'Spider-Man 3\\xa0',\n",
       " 'Stealing Harvard\\xa0',\n",
       " 'Syriana\\xa0',\n",
       " 'TRON: Legacy\\xa0',\n",
       " 'Teenage Mutant Ninja Turtles\\xa0',\n",
       " 'The Alamo\\xa0',\n",
       " \"The Astronaut's Wife\\xa0\",\n",
       " 'The Avengers\\xa0',\n",
       " 'The Calling\\xa0',\n",
       " 'The Claim\\xa0',\n",
       " 'The Day the Earth Stood Still\\xa0',\n",
       " 'The Fast and the Furious\\xa0',\n",
       " 'The Fog\\xa0',\n",
       " 'The French Connection\\xa0',\n",
       " 'The Full Monty\\xa0',\n",
       " 'The Gambler\\xa0',\n",
       " 'The Gift\\xa0',\n",
       " 'The Great Gatsby\\xa0',\n",
       " 'The Host\\xa0',\n",
       " 'The Illusionist\\xa0',\n",
       " 'The Island\\xa0',\n",
       " 'The Jungle Book\\xa0',\n",
       " 'The Karate Kid\\xa0',\n",
       " 'The Last House on the Left\\xa0',\n",
       " 'The Legend of Tarzan\\xa0',\n",
       " 'The Love Letter\\xa0',\n",
       " 'The Lovely Bones\\xa0',\n",
       " 'The Lovers\\xa0',\n",
       " 'The Omen\\xa0',\n",
       " 'The Possession\\xa0',\n",
       " 'The Return of the Living Dead\\xa0',\n",
       " 'The Texas Chain Saw Massacre\\xa0',\n",
       " 'The Tourist\\xa0',\n",
       " 'The Twilight Saga: Breaking Dawn - Part 2\\xa0',\n",
       " 'The Unborn\\xa0',\n",
       " 'The Watch\\xa0',\n",
       " 'Total Recall\\xa0',\n",
       " 'Trance\\xa0',\n",
       " 'Twilight\\xa0',\n",
       " 'Unbroken\\xa0',\n",
       " 'Unknown\\xa0',\n",
       " 'Victor Frankenstein\\xa0',\n",
       " 'Wicker Park\\xa0']"
      ]
     },
     "execution_count": 3,
     "metadata": {},
     "output_type": "execute_result"
    }
   ],
   "source": [
    "ratings.set_index('movie_title').index.get_duplicates()"
   ]
  },
  {
   "cell_type": "markdown",
   "metadata": {},
   "source": [
    "#### Oh Boy! Lots of duplicate data. Lets remove the duplicate fields and also omit the na values and view the data again. Lets also try to limit the analysis on movie title, genre and imdb score only."
   ]
  },
  {
   "cell_type": "code",
   "execution_count": 4,
   "metadata": {
    "collapsed": false
   },
   "outputs": [
    {
     "data": {
      "text/html": [
       "<div>\n",
       "<table border=\"1\" class=\"dataframe\">\n",
       "  <thead>\n",
       "    <tr style=\"text-align: right;\">\n",
       "      <th></th>\n",
       "      <th>movie_title</th>\n",
       "      <th>genres</th>\n",
       "      <th>imdb_score</th>\n",
       "    </tr>\n",
       "  </thead>\n",
       "  <tbody>\n",
       "    <tr>\n",
       "      <th>0</th>\n",
       "      <td>Avatar</td>\n",
       "      <td>Action|Adventure|Fantasy|Sci-Fi</td>\n",
       "      <td>7.9</td>\n",
       "    </tr>\n",
       "    <tr>\n",
       "      <th>1</th>\n",
       "      <td>Pirates of the Caribbean: At World's End</td>\n",
       "      <td>Action|Adventure|Fantasy</td>\n",
       "      <td>7.1</td>\n",
       "    </tr>\n",
       "    <tr>\n",
       "      <th>2</th>\n",
       "      <td>Spectre</td>\n",
       "      <td>Action|Adventure|Thriller</td>\n",
       "      <td>6.8</td>\n",
       "    </tr>\n",
       "    <tr>\n",
       "      <th>3</th>\n",
       "      <td>The Dark Knight Rises</td>\n",
       "      <td>Action|Thriller</td>\n",
       "      <td>8.5</td>\n",
       "    </tr>\n",
       "    <tr>\n",
       "      <th>4</th>\n",
       "      <td>Star Wars: Episode VII - The Force Awakens    ...</td>\n",
       "      <td>Documentary</td>\n",
       "      <td>7.1</td>\n",
       "    </tr>\n",
       "  </tbody>\n",
       "</table>\n",
       "</div>"
      ],
      "text/plain": [
       "                                         movie_title  \\\n",
       "0                                            Avatar    \n",
       "1          Pirates of the Caribbean: At World's End    \n",
       "2                                           Spectre    \n",
       "3                             The Dark Knight Rises    \n",
       "4  Star Wars: Episode VII - The Force Awakens    ...   \n",
       "\n",
       "                            genres  imdb_score  \n",
       "0  Action|Adventure|Fantasy|Sci-Fi         7.9  \n",
       "1         Action|Adventure|Fantasy         7.1  \n",
       "2        Action|Adventure|Thriller         6.8  \n",
       "3                  Action|Thriller         8.5  \n",
       "4                      Documentary         7.1  "
      ]
     },
     "execution_count": 4,
     "metadata": {},
     "output_type": "execute_result"
    }
   ],
   "source": [
    "#remove duplicate\n",
    "ratings = ratings.drop_duplicates(['movie_title'])\n",
    "\n",
    "#drop rows with na values from columns which are going to be analysed\n",
    "ratings = ratings[['movie_title', 'genres', 'imdb_score']].dropna()\n",
    "ratings.head()"
   ]
  },
  {
   "cell_type": "markdown",
   "metadata": {},
   "source": [
    "#### Seems its now easier to interpret the data. \n",
    "#### Now lets generate a list 'genreList' with all possible genres mentioned in the dataset."
   ]
  },
  {
   "cell_type": "code",
   "execution_count": 5,
   "metadata": {
    "collapsed": false
   },
   "outputs": [],
   "source": [
    "#generating a list which will hold all the possible genres for comparison\n",
    "genreList = []\n",
    "for index, row in ratings.iterrows():\n",
    "    genres = row[\"genres\"].split('|')\n",
    "    \n",
    "    for genre in genres:\n",
    "        if genre not in genreList:\n",
    "            genreList.append(genre)"
   ]
  },
  {
   "cell_type": "markdown",
   "metadata": {},
   "source": [
    "#### 'genreList' will now hold all the genres. But how will we know about the genres each movie is classified into. Certainly not all. Lets find out!!\n",
    "#### Lets create a new column in the dataframe which will hold binary values whether a genre is present or not in it. First lets create a method which will return back a list of binary values for the genres of each movie. The 'genreList' will be useful now to compare against the values. "
   ]
  },
  {
   "cell_type": "code",
   "execution_count": 6,
   "metadata": {
    "collapsed": true
   },
   "outputs": [],
   "source": [
    "#method to assign binary values to genres present in the df\n",
    "def getValue(genre_list):\n",
    "    binaryList = []\n",
    "    \n",
    "    for genre in genreList:\n",
    "        if genre in genre_list:\n",
    "            binaryList.append(1)\n",
    "        else:\n",
    "            binaryList.append(0)\n",
    "    \n",
    "    return binaryList"
   ]
  },
  {
   "cell_type": "markdown",
   "metadata": {},
   "source": [
    "#### Now that the method is created, lets put it into some use and add a new column in the dataframe which we mentioned earlier. This column will be critical in the KNN calculation later on."
   ]
  },
  {
   "cell_type": "code",
   "execution_count": 7,
   "metadata": {
    "collapsed": false
   },
   "outputs": [
    {
     "data": {
      "text/plain": [
       "0    [1, 1, 1, 1, 0, 0, 0, 0, 0, 0, 0, 0, 0, 0, 0, ...\n",
       "1    [1, 1, 1, 0, 0, 0, 0, 0, 0, 0, 0, 0, 0, 0, 0, ...\n",
       "2    [1, 1, 0, 0, 1, 0, 0, 0, 0, 0, 0, 0, 0, 0, 0, ...\n",
       "3    [1, 0, 0, 0, 1, 0, 0, 0, 0, 0, 0, 0, 0, 0, 0, ...\n",
       "4    [0, 0, 0, 0, 0, 1, 0, 0, 0, 0, 0, 0, 0, 0, 0, ...\n",
       "Name: sGenres, dtype: object"
      ]
     },
     "execution_count": 7,
     "metadata": {},
     "output_type": "execute_result"
    }
   ],
   "source": [
    "#sGenres will hold the binary values of genres which will be helpful for KNN calculation\n",
    "ratings['sGenres'] = ratings['genres'].apply(lambda x: getValue(x.split('|')))\n",
    "ratings['sGenres'].head()"
   ]
  },
  {
   "cell_type": "markdown",
   "metadata": {},
   "source": [
    "#### The 0s and 1s look good and hope it would be easier for the computer to interpret it this way also. Well who am I kidding, it has to!\n",
    "#### It is evident that our dataframe has not got any uniform identity column yet. Lets make one for it."
   ]
  },
  {
   "cell_type": "code",
   "execution_count": 8,
   "metadata": {
    "collapsed": false
   },
   "outputs": [
    {
     "data": {
      "text/html": [
       "<div>\n",
       "<table border=\"1\" class=\"dataframe\">\n",
       "  <thead>\n",
       "    <tr style=\"text-align: right;\">\n",
       "      <th></th>\n",
       "      <th>movie_title</th>\n",
       "      <th>genres</th>\n",
       "      <th>imdb_score</th>\n",
       "      <th>sGenres</th>\n",
       "      <th>movieId</th>\n",
       "    </tr>\n",
       "  </thead>\n",
       "  <tbody>\n",
       "    <tr>\n",
       "      <th>0</th>\n",
       "      <td>Avatar</td>\n",
       "      <td>Action|Adventure|Fantasy|Sci-Fi</td>\n",
       "      <td>7.9</td>\n",
       "      <td>[1, 1, 1, 1, 0, 0, 0, 0, 0, 0, 0, 0, 0, 0, 0, ...</td>\n",
       "      <td>1</td>\n",
       "    </tr>\n",
       "    <tr>\n",
       "      <th>1</th>\n",
       "      <td>Pirates of the Caribbean: At World's End</td>\n",
       "      <td>Action|Adventure|Fantasy</td>\n",
       "      <td>7.1</td>\n",
       "      <td>[1, 1, 1, 0, 0, 0, 0, 0, 0, 0, 0, 0, 0, 0, 0, ...</td>\n",
       "      <td>2</td>\n",
       "    </tr>\n",
       "    <tr>\n",
       "      <th>2</th>\n",
       "      <td>Spectre</td>\n",
       "      <td>Action|Adventure|Thriller</td>\n",
       "      <td>6.8</td>\n",
       "      <td>[1, 1, 0, 0, 1, 0, 0, 0, 0, 0, 0, 0, 0, 0, 0, ...</td>\n",
       "      <td>3</td>\n",
       "    </tr>\n",
       "    <tr>\n",
       "      <th>3</th>\n",
       "      <td>The Dark Knight Rises</td>\n",
       "      <td>Action|Thriller</td>\n",
       "      <td>8.5</td>\n",
       "      <td>[1, 0, 0, 0, 1, 0, 0, 0, 0, 0, 0, 0, 0, 0, 0, ...</td>\n",
       "      <td>4</td>\n",
       "    </tr>\n",
       "    <tr>\n",
       "      <th>4</th>\n",
       "      <td>Star Wars: Episode VII - The Force Awakens    ...</td>\n",
       "      <td>Documentary</td>\n",
       "      <td>7.1</td>\n",
       "      <td>[0, 0, 0, 0, 0, 1, 0, 0, 0, 0, 0, 0, 0, 0, 0, ...</td>\n",
       "      <td>5</td>\n",
       "    </tr>\n",
       "  </tbody>\n",
       "</table>\n",
       "</div>"
      ],
      "text/plain": [
       "                                         movie_title  \\\n",
       "0                                            Avatar    \n",
       "1          Pirates of the Caribbean: At World's End    \n",
       "2                                           Spectre    \n",
       "3                             The Dark Knight Rises    \n",
       "4  Star Wars: Episode VII - The Force Awakens    ...   \n",
       "\n",
       "                            genres  imdb_score  \\\n",
       "0  Action|Adventure|Fantasy|Sci-Fi         7.9   \n",
       "1         Action|Adventure|Fantasy         7.1   \n",
       "2        Action|Adventure|Thriller         6.8   \n",
       "3                  Action|Thriller         8.5   \n",
       "4                      Documentary         7.1   \n",
       "\n",
       "                                             sGenres  movieId  \n",
       "0  [1, 1, 1, 1, 0, 0, 0, 0, 0, 0, 0, 0, 0, 0, 0, ...        1  \n",
       "1  [1, 1, 1, 0, 0, 0, 0, 0, 0, 0, 0, 0, 0, 0, 0, ...        2  \n",
       "2  [1, 1, 0, 0, 1, 0, 0, 0, 0, 0, 0, 0, 0, 0, 0, ...        3  \n",
       "3  [1, 0, 0, 0, 1, 0, 0, 0, 0, 0, 0, 0, 0, 0, 0, ...        4  \n",
       "4  [0, 0, 0, 0, 0, 1, 0, 0, 0, 0, 0, 0, 0, 0, 0, ...        5  "
      ]
     },
     "execution_count": 8,
     "metadata": {},
     "output_type": "execute_result"
    }
   ],
   "source": [
    "# new column = movieId\n",
    "ratings['movieId'] = range(1, len(ratings) + 1)\n",
    "ratings.head()"
   ]
  },
  {
   "cell_type": "markdown",
   "metadata": {},
   "source": [
    "#### Now lets use the scipy package to create a method which will calculate cosine distance between genres of two movies. Various other methods can be used in place of cosine. Check out the following link: https://docs.scipy.org/doc/scipy-0.18.1/reference/spatial.distance.html"
   ]
  },
  {
   "cell_type": "code",
   "execution_count": 9,
   "metadata": {
    "collapsed": true
   },
   "outputs": [],
   "source": [
    "#method to compute spatial distance between two movies\n",
    "from scipy import spatial\n",
    "\n",
    "def ComputeDistance(movieId1, movieId2):\n",
    "    a = ratings.iloc[movieId1,]\n",
    "    b = ratings.iloc[movieId2,]\n",
    "    \n",
    "    genresA = a[3]\n",
    "    genresB = b[3]\n",
    "    \n",
    "    genreDistance = spatial.distance.cosine(genresA, genresB)\n",
    "    \n",
    "    scoreA = a[2]\n",
    "    scoreB = b[2]\n",
    "    scoreDistance = abs(scoreA - scoreB)\n",
    "    \n",
    "    return genreDistance + scoreDistance"
   ]
  },
  {
   "cell_type": "markdown",
   "metadata": {},
   "source": [
    "#### Lets use the ComputeDistance method to calculate distance between two random movies and see the result"
   ]
  },
  {
   "cell_type": "code",
   "execution_count": 10,
   "metadata": {
    "collapsed": false
   },
   "outputs": [
    {
     "data": {
      "text/plain": [
       "0.63333333333333308"
      ]
     },
     "execution_count": 10,
     "metadata": {},
     "output_type": "execute_result"
    }
   ],
   "source": [
    "#distance between movie id 1 and movie id 2\n",
    "ComputeDistance(1, 2)"
   ]
  },
  {
   "cell_type": "markdown",
   "metadata": {},
   "source": [
    "#### The more the distance, the less similar the movies are. And the distance is somewhat big. Let's see what these random movies actually were."
   ]
  },
  {
   "cell_type": "code",
   "execution_count": 11,
   "metadata": {
    "collapsed": false
   },
   "outputs": [
    {
     "name": "stdout",
     "output_type": "stream",
     "text": [
      "movie_title            Pirates of the Caribbean: At World's End \n",
      "genres                                  Action|Adventure|Fantasy\n",
      "imdb_score                                                   7.1\n",
      "sGenres        [1, 1, 1, 0, 0, 0, 0, 0, 0, 0, 0, 0, 0, 0, 0, ...\n",
      "movieId                                                        2\n",
      "Name: 1, dtype: object\n",
      "movie_title                                             Spectre \n",
      "genres                                 Action|Adventure|Thriller\n",
      "imdb_score                                                   6.8\n",
      "sGenres        [1, 1, 0, 0, 1, 0, 0, 0, 0, 0, 0, 0, 0, 0, 0, ...\n",
      "movieId                                                        3\n",
      "Name: 2, dtype: object\n"
     ]
    }
   ],
   "source": [
    "print(ratings.iloc[1,])\n",
    "print(ratings.iloc[2,])"
   ]
  },
  {
   "cell_type": "markdown",
   "metadata": {},
   "source": [
    "#### Hide the rum. Captain Sparrow is here, mate. So is Bond. James Bond.\n",
    "#### Well Jack Sparrow and James Bond won't agree ever. Arrgh!"
   ]
  },
  {
   "cell_type": "markdown",
   "metadata": {},
   "source": [
    "#### Lets find Nemo now. Actually let's find Nemo's rating now from the movies similar to its genre. "
   ]
  },
  {
   "cell_type": "code",
   "execution_count": 12,
   "metadata": {
    "collapsed": false
   },
   "outputs": [
    {
     "data": {
      "text/html": [
       "<div>\n",
       "<table border=\"1\" class=\"dataframe\">\n",
       "  <thead>\n",
       "    <tr style=\"text-align: right;\">\n",
       "      <th></th>\n",
       "      <th>movie_title</th>\n",
       "      <th>genres</th>\n",
       "      <th>imdb_score</th>\n",
       "      <th>sGenres</th>\n",
       "      <th>movieId</th>\n",
       "    </tr>\n",
       "  </thead>\n",
       "  <tbody>\n",
       "    <tr>\n",
       "      <th>338</th>\n",
       "      <td>Finding Nemo</td>\n",
       "      <td>Adventure|Animation|Comedy|Family</td>\n",
       "      <td>8.2</td>\n",
       "      <td>[0, 1, 0, 0, 0, 0, 0, 1, 1, 1, 0, 0, 0, 0, 0, ...</td>\n",
       "      <td>335</td>\n",
       "    </tr>\n",
       "  </tbody>\n",
       "</table>\n",
       "</div>"
      ],
      "text/plain": [
       "       movie_title                             genres  imdb_score  \\\n",
       "338  Finding Nemo   Adventure|Animation|Comedy|Family         8.2   \n",
       "\n",
       "                                               sGenres  movieId  \n",
       "338  [0, 1, 0, 0, 0, 0, 0, 1, 1, 1, 0, 0, 0, 0, 0, ...      335  "
      ]
     },
     "execution_count": 12,
     "metadata": {},
     "output_type": "execute_result"
    }
   ],
   "source": [
    "nemo = ratings.loc[ratings['movie_title'].str.contains(\"Nemo\")]\n",
    "nemo"
   ]
  },
  {
   "cell_type": "markdown",
   "metadata": {},
   "source": [
    "#### Now that everything is ready, lets finally use the methods to find the movie's rating. I am using 10 nearest neighbors of Nemo to find out rating of the movie. After all the calculation, lets display all the nearest movies also with their data also."
   ]
  },
  {
   "cell_type": "code",
   "execution_count": 13,
   "metadata": {
    "collapsed": false
   },
   "outputs": [
    {
     "name": "stdout",
     "output_type": "stream",
     "text": [
      "Up  Adventure|Animation|Comedy|Family 0.1 8.3\n",
      "Monsters, Inc.  Adventure|Animation|Comedy|Family|Fantasy 0.205572809 8.1\n",
      "Toy Story 3  Adventure|Animation|Comedy|Family|Fantasy 0.205572809 8.3\n",
      "Toy Story  Adventure|Animation|Comedy|Family|Fantasy 0.205572809 8.3\n",
      "Shaun the Sheep              Animation|Comedy|Family 0.233974596216 8.3\n",
      "How to Train Your Dragon  Adventure|Animation|Family|Fantasy 0.25 8.2\n",
      "Howl's Moving Castle  Adventure|Animation|Family|Fantasy 0.25 8.2\n",
      "Inside Out  Adventure|Animation|Comedy|Drama|Family|Fantasy 0.283503419072 8.3\n",
      "A Charlie Brown Christmas  Animation|Comedy|Family 0.333974596216 8.4\n",
      "A Christmas Story  Comedy|Family 0.392893218813 8.1\n",
      "\n",
      "\n",
      "The predicted rating of the movie is:  8.25\n"
     ]
    }
   ],
   "source": [
    "import operator\n",
    "\n",
    "def getNeighbors(baseMovie, K):\n",
    "    distances = []\n",
    "    \n",
    "    for index, movie in ratings.iterrows():\n",
    "        if movie['movieId'] != baseMovie['movieId'].values[0]:\n",
    "            dist = ComputeDistance(baseMovie['movieId'].values[0]-1, movie['movieId']-1)\n",
    "            distances.append((movie['movieId'], dist))\n",
    "    \n",
    "    distances.sort(key=operator.itemgetter(1))\n",
    "    neighbors = []\n",
    "    \n",
    "    for x in range(K):\n",
    "        neighbors.append(distances[x])\n",
    "    return neighbors\n",
    "\n",
    "K = 10\n",
    "avgRating = 0\n",
    "neighbors = getNeighbors(nemo, K)\n",
    "\n",
    "for neighbor in neighbors:\n",
    "    avgRating += ratings.iloc[neighbor[0]-1,][2]    \n",
    "    print(ratings.iloc[neighbor[0]-1,][0], ratings.iloc[neighbor[0]-1,][1], str(neighbor[1]), \\\n",
    "                                                                                str(ratings.iloc[neighbor[0]-1,][2]))\n",
    "    \n",
    "print('\\n')\n",
    "\n",
    "avgRating /= K\n",
    "print('The predicted rating of the movie is: ', avgRating)"
   ]
  },
  {
   "cell_type": "markdown",
   "metadata": {},
   "source": [
    "#### So the model predicts rating to be 8.25. No doubt Finding Nemo was a good movie. And see how the movies similar are most animated, adventure, comedy or family in their genres.\n",
    "#### Now lets check the actual genre of Finding Nemo and its rating on imdb"
   ]
  },
  {
   "cell_type": "code",
   "execution_count": 14,
   "metadata": {
    "collapsed": false
   },
   "outputs": [
    {
     "name": "stdout",
     "output_type": "stream",
     "text": [
      "Finding Nemo  Adventure|Animation|Comedy|Family 8.2\n"
     ]
    }
   ],
   "source": [
    "#Finding Nemo's movie id is 335 and index must be 334\n",
    "print(ratings.iloc[334,][0], ratings.iloc[334,][1], ratings.iloc[334,][2])"
   ]
  },
  {
   "cell_type": "markdown",
   "metadata": {},
   "source": [
    "#### Seems the model worked out pretty well as the genres matched well so did the rating! Finding Nemo was one of the best movies created by Disney and we predicted its genre almost correctly. Hurray!"
   ]
  },
  {
   "cell_type": "markdown",
   "metadata": {},
   "source": [
    "### K Nearest Neighbors (KNN) is a method used to classify new data points based on distance to known data. We just need to define some distance metric between items in the dataset and use it to find the K closest neighbors. Those neighbors can then be used to predict some property of a test item by letting them all vote on the final classification of test item."
   ]
  },
  {
   "cell_type": "markdown",
   "metadata": {},
   "source": [
    "### - Data beats Emotions! :D"
   ]
  }
 ],
 "metadata": {
  "kernelspec": {
   "display_name": "Python 3",
   "language": "python",
   "name": "python3"
  },
  "language_info": {
   "codemirror_mode": {
    "name": "ipython",
    "version": 3
   },
   "file_extension": ".py",
   "mimetype": "text/x-python",
   "name": "python",
   "nbconvert_exporter": "python",
   "pygments_lexer": "ipython3",
   "version": "3.6.0"
  }
 },
 "nbformat": 4,
 "nbformat_minor": 2
}
